{
 "cells": [
  {
   "cell_type": "markdown",
   "id": "e4a675a9",
   "metadata": {},
   "source": [
    "1. Why are functions advantageous to have in your programs?"
   ]
  },
  {
   "cell_type": "markdown",
   "id": "3915d243",
   "metadata": {},
   "source": [
    "a. Dividing the program into separate well defined function facilitates each fucntion to be written and tested separately.\n",
    "b.Understanding,coding and testing multiple functions is far more much easier as comapred to doing the same for a huge function.\n",
    "c.Like python libraries ,programmmers can also make their own function and use them for different points in the main program."
   ]
  },
  {
   "cell_type": "markdown",
   "id": "95828b13",
   "metadata": {},
   "source": [
    "2. When does the code in a function run: when it&#39;s specified or when it&#39;s called?"
   ]
  },
  {
   "cell_type": "markdown",
   "id": "d369ea6d",
   "metadata": {},
   "source": [
    "Every function encapsulates a set of operations and when called it returns the information to the calling program."
   ]
  },
  {
   "cell_type": "markdown",
   "id": "e34db0f3",
   "metadata": {},
   "source": [
    "3. What statement creates a function?"
   ]
  },
  {
   "cell_type": "markdown",
   "id": "4f119aa9",
   "metadata": {},
   "source": [
    "The 'def' keyword is a statement for defining a function in a python."
   ]
  },
  {
   "cell_type": "markdown",
   "id": "4113c282",
   "metadata": {},
   "source": [
    "4. What is the difference between a function and a function call?"
   ]
  },
  {
   "cell_type": "markdown",
   "id": "d5c8f3fd",
   "metadata": {},
   "source": [
    "Defining a function means specifying its name , parameters that are expected, and the set of instruction.\n",
    "The function call statement invokes the function.When a function is invoked the program control jumps to the called function to execute the statement that are a part of that function."
   ]
  },
  {
   "cell_type": "markdown",
   "id": "b4a5e159",
   "metadata": {},
   "source": [
    "5. How many global scopes are there in a Python program? How many local scopes?"
   ]
  },
  {
   "cell_type": "markdown",
   "id": "58c40532",
   "metadata": {},
   "source": [
    "A variable is only available from inside the region it is created .This is called scope\n",
    "\n",
    "local scope- a variable created inside a function belongs to the local scope of that function and can only be used inside that function.\n",
    "\n",
    "global scope- A variable created in the main body of the python code is a global variable and belongs to the global scope.\n",
    "Global variables are available from within any scope , global and local."
   ]
  },
  {
   "cell_type": "markdown",
   "id": "3d2ffc3e",
   "metadata": {},
   "source": [
    "6. What happens to variables in a local scope when the function call returns?"
   ]
  },
  {
   "cell_type": "markdown",
   "id": "73c42585",
   "metadata": {},
   "source": [
    "When the execution of the function terminates(returns),the local variables are destroyed."
   ]
  },
  {
   "cell_type": "markdown",
   "id": "80b66d01",
   "metadata": {},
   "source": [
    "7. What is the concept of a return value? Is it possible to have a return value in an expression?"
   ]
  },
  {
   "cell_type": "markdown",
   "id": "e7777384",
   "metadata": {},
   "source": [
    "A return statement is used to end the execution of the function call and returns the result to the caller.\n",
    "If the data type of the expression is different from function return type , conversion of the return value takes place as if the value of the expression were assigned to an object with same function return type. For a funtion of type void , a return statment is not strictly necessary"
   ]
  },
  {
   "cell_type": "markdown",
   "id": "9ea08cea",
   "metadata": {},
   "source": [
    "8. If a function does not have a return statement, what is the return value of a call to that function?"
   ]
  },
  {
   "cell_type": "markdown",
   "id": "1fffafc4",
   "metadata": {},
   "source": [
    "If no return statement appears in a function definition , control automaticallu returns to the calling function after the last statement of the called function is excuted . In this case the return value of the called funtion is undefined."
   ]
  },
  {
   "cell_type": "markdown",
   "id": "315a9aed",
   "metadata": {},
   "source": [
    "9. How do you make a function variable refer to the global variable?"
   ]
  },
  {
   "cell_type": "markdown",
   "id": "42ece7ef",
   "metadata": {},
   "source": [
    "You can use the global keyword."
   ]
  },
  {
   "cell_type": "markdown",
   "id": "476c4877",
   "metadata": {},
   "source": [
    "10. What is the data type of None?"
   ]
  },
  {
   "cell_type": "markdown",
   "id": "94d6b41e",
   "metadata": {},
   "source": [
    "The None keyword is used to define a null value or no value at all.The data type of None is NoneType."
   ]
  },
  {
   "cell_type": "markdown",
   "id": "951c5183",
   "metadata": {},
   "source": [
    "11. What does the sentence import areallyourpetsnamederic do?"
   ]
  },
  {
   "cell_type": "markdown",
   "id": "2496487e",
   "metadata": {},
   "source": [
    "That import statement imports a module named areallyourpetsnamederic."
   ]
  },
  {
   "cell_type": "markdown",
   "id": "cf0d9ab2",
   "metadata": {},
   "source": [
    "12. If you had a bacon() feature in a spam module, what would you call it after importing spam?"
   ]
  },
  {
   "cell_type": "markdown",
   "id": "31cbb6ce",
   "metadata": {},
   "source": [
    "we call it using spam.bacon()"
   ]
  },
  {
   "cell_type": "markdown",
   "id": "16bafebf",
   "metadata": {},
   "source": [
    "13. What can you do to save a programme from crashing if it encounters an error?"
   ]
  },
  {
   "cell_type": "markdown",
   "id": "42e8c3bf",
   "metadata": {},
   "source": [
    "Place the line code that might cause an error in a try clause."
   ]
  },
  {
   "cell_type": "markdown",
   "id": "4d204dd4",
   "metadata": {},
   "source": [
    "14.What is the purpose of the try clause? What is the purpose of the except clause?"
   ]
  },
  {
   "cell_type": "markdown",
   "id": "9b7206a9",
   "metadata": {},
   "source": [
    "That code that could potentially cause an error goes in the try clause.\n",
    "The code that executes if an error happens goes in the except clause."
   ]
  },
  {
   "cell_type": "code",
   "execution_count": null,
   "id": "52f74786",
   "metadata": {},
   "outputs": [],
   "source": []
  }
 ],
 "metadata": {
  "kernelspec": {
   "display_name": "Python 3 (ipykernel)",
   "language": "python",
   "name": "python3"
  },
  "language_info": {
   "codemirror_mode": {
    "name": "ipython",
    "version": 3
   },
   "file_extension": ".py",
   "mimetype": "text/x-python",
   "name": "python",
   "nbconvert_exporter": "python",
   "pygments_lexer": "ipython3",
   "version": "3.9.12"
  }
 },
 "nbformat": 4,
 "nbformat_minor": 5
}
